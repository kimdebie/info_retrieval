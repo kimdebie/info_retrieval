{
 "cells": [
  {
   "cell_type": "markdown",
   "metadata": {},
   "source": [
    "## Homework part B: implementing a sample size estimator for interleaving experiments\n",
    "\n",
    "#### by Kim de Bie, Bram van den Heuvel and Kiki van Rongen"
   ]
  },
  {
   "cell_type": "code",
   "execution_count": null,
   "metadata": {},
   "outputs": [],
   "source": [
    "import\n",
    "\n",
    "# import Yandex click log file"
   ]
  },
  {
   "cell_type": "markdown",
   "metadata": {},
   "source": [
    "### Step 1: Simulate Rankings of Relevance for E and P"
   ]
  },
  {
   "cell_type": "code",
   "execution_count": 1,
   "metadata": {},
   "outputs": [],
   "source": [
    "# code\n",
    "class Ranking:\n",
    "    def __init__(self, ranker, ranking_list):\n",
    "        self.id = 0\n",
    "        self.ranker = E\n",
    "        self.ranking = [{id: 1, relevance: 0}, {id: 2, relevance: 0}, {id: 3, relevance: 1}]\n",
    "        self.ERR = calculate_ERR(self.ranking)\n",
    "        \n",
    "        #ids tussen 1 en 6. Voor E altijd 1 2 3.\n",
    "        \n",
    "        \n",
    "rankings_E = []\n",
    "rankings_P = []\n",
    "\n",
    "class Pair:\n",
    "    def __init__(self, ranking_E, ranking_P):\n",
    "        self.rankings = [ranking_E, ranking_P]\n",
    "        self.delta_ERR = ranking_E.ERR - ranking_P.ERR\n",
    "        \n",
    "    def test_possibility():\n",
    "        # BRAM HET IS NOG NIET AF!!!!! TODO\n",
    "        raise notImplementedError()    \n",
    "        \n",
    "pairs = []\n",
    "    \n"
   ]
  },
  {
   "cell_type": "markdown",
   "metadata": {},
   "source": [
    "### Step 2: Calculate the 𝛥ERR"
   ]
  },
  {
   "cell_type": "code",
   "execution_count": null,
   "metadata": {},
   "outputs": [],
   "source": [
    "def calculate_ERR(ranking):\n",
    "    \n",
    "    return ERR_score"
   ]
  },
  {
   "cell_type": "markdown",
   "metadata": {},
   "source": [
    "### Step 3: Implement Team-Draft Interleaving and Probabilistic Interleaving"
   ]
  },
  {
   "cell_type": "code",
   "execution_count": null,
   "metadata": {},
   "outputs": [],
   "source": [
    "# input: lists of pair objects\n",
    "\n",
    "def team_draft_interleaving(pair):\n",
    "    \n",
    "    interleaving = {ranking: [(E/P, rank), (E/P, rank), (E/P, rank), (E/P, rank)], pair_id: id}\n",
    "    \n",
    "    return interleaving"
   ]
  },
  {
   "cell_type": "markdown",
   "metadata": {},
   "source": [
    "### Step 4:  Simulate user clicks"
   ]
  },
  {
   "cell_type": "code",
   "execution_count": 2,
   "metadata": {},
   "outputs": [],
   "source": [
    "# input: interleaving object\n",
    "\n",
    "def estimate_PBM_parameters(clicklog):\n",
    "    \n",
    "    #TODO train for gamma and manually set epsilon/alpha\n",
    "    \n",
    "    return parameters\n",
    "\n"
   ]
  },
  {
   "cell_type": "markdown",
   "metadata": {},
   "source": [
    "### Step 5: Simulate interleaving experiment"
   ]
  },
  {
   "cell_type": "code",
   "execution_count": 1,
   "metadata": {},
   "outputs": [],
   "source": [
    "def simulate_experiment():\n",
    "    \n",
    "    for k.... do step 3 and 4\n",
    "    \n",
    "    return proportion_of_E_wins"
   ]
  },
  {
   "cell_type": "markdown",
   "metadata": {},
   "source": [
    "### Step 6: Compute sample size"
   ]
  },
  {
   "cell_type": "code",
   "execution_count": null,
   "metadata": {},
   "outputs": [],
   "source": [
    "def determine_sample_size(results_of_one_experiment):\n",
    "    \n",
    "    all_sample_sizes.append(sample_size)\n",
    "    \n",
    "\n",
    "def sample_size_interval(all_sample_sizes):\n",
    "    \n",
    "    return minimum, median, maximum"
   ]
  },
  {
   "cell_type": "markdown",
   "metadata": {},
   "source": [
    "### Step 7: Analysis\n",
    "\n",
    "* Report the aforementioned tables for the Random Click Model and PBM and for the two interleaving methods [5pts];\n",
    "* Analyze the results and report your conclusions by observing the results of the experiment [10pts];\n",
    "* Based on the literature, suggest possible improvements to the experimental design and how would you implement them [5pts].\n"
   ]
  }
 ],
 "metadata": {
  "kernelspec": {
   "display_name": "Python [conda env:Anaconda3]",
   "language": "python",
   "name": "conda-env-Anaconda3-py"
  },
  "language_info": {
   "codemirror_mode": {
    "name": "ipython",
    "version": 3
   },
   "file_extension": ".py",
   "mimetype": "text/x-python",
   "name": "python",
   "nbconvert_exporter": "python",
   "pygments_lexer": "ipython3",
   "version": "3.6.4"
  }
 },
 "nbformat": 4,
 "nbformat_minor": 2
}
